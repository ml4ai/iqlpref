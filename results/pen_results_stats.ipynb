{
 "cells": [
  {
   "cell_type": "code",
   "execution_count": 1,
   "id": "14d6a76a-5697-4dca-881b-60dd56f6d823",
   "metadata": {},
   "outputs": [],
   "source": [
    "import matplotlib.pyplot as plt\n",
    "import numpy as np\n",
    "import pandas as pd\n",
    "import seaborn as sns\n",
    "from prettytable import PrettyTable\n",
    "\n",
    "pd.options.mode.copy_on_write = True"
   ]
  },
  {
   "cell_type": "code",
   "execution_count": 2,
   "id": "a8bac913-8574-4852-b1f9-c7d4f9f40159",
   "metadata": {},
   "outputs": [],
   "source": [
    "t_cloned_df = pd.read_csv(\n",
    "    \"../cloned_pen_models/iql-D4RL/pen/stats.csv\", header=None, names=[\"return\"]\n",
    ")\n",
    "t_cloned_df[\"dataset\"] = \"D4RL/pen/cloned-v2\"\n",
    "t_expert_df = pd.read_csv(\n",
    "    \"../expert_pen_models/iql-D4RL/pen/stats.csv\", header=None, names=[\"return\"]\n",
    ")\n",
    "t_expert_df[\"dataset\"] = \"D4RL/pen/expert-v2\"\n",
    "t_human_df = pd.read_csv(\n",
    "    \"../human_pen_models/iql-D4RL/pen/stats.csv\", header=None, names=[\"return\"]\n",
    ")\n",
    "t_human_df[\"dataset\"] = \"D4RL/pen/human-v2\""
   ]
  },
  {
   "cell_type": "code",
   "execution_count": 3,
   "id": "9031fe38-92d2-46f2-869f-1a0330ad71b1",
   "metadata": {},
   "outputs": [],
   "source": [
    "t_df = pd.concat([t_cloned_df, t_expert_df, t_human_df])\n",
    "t_df[\"rf\"] = \"task reward\""
   ]
  },
  {
   "cell_type": "code",
   "execution_count": 4,
   "id": "d4614d96-4241-4bd4-8717-f57b05441557",
   "metadata": {},
   "outputs": [],
   "source": [
    "# mr_cloned_df = pd.read_csv(\n",
    "#     \"../cloned_pen_models_pref/iql-p-D4RL/pen/stats.csv\", header=None, names=[\"return\"]\n",
    "# )\n",
    "# mr_cloned_df[\"dataset\"] = \"D4RL/pen/cloned-v2\"\n",
    "# mr_expert_df = pd.read_csv(\n",
    "#     \"../expert_pen_models_pref/iql-p-D4RL/pen/stats.csv\", header=None, names=[\"return\"]\n",
    "# )\n",
    "# mr_expert_df[\"dataset\"] = \"D4RL/pen/expert-v2\"\n",
    "# mr_human_df = pd.read_csv(\n",
    "#     \"../human_pen_models_pref/iql-p-D4RL/pen/stats.csv\", header=None, names=[\"return\"]\n",
    "# )\n",
    "# mr_human_df[\"dataset\"] = \"D4RL/pen/human-v2\""
   ]
  },
  {
   "cell_type": "code",
   "execution_count": 5,
   "id": "5baa02de-355b-4e1f-81b9-0825bf6a8936",
   "metadata": {},
   "outputs": [],
   "source": [
    "# mr_df = pd.concat([mr_cloned_df, mr_expert_df, mr_human_df])\n",
    "# mr_df[\"rf\"] = \"MR\""
   ]
  },
  {
   "cell_type": "code",
   "execution_count": 6,
   "id": "7d0b8731-51ca-4850-bd4e-95bd58c63dfd",
   "metadata": {},
   "outputs": [],
   "source": [
    "# pt_cloned_df = pd.read_csv(\n",
    "#     \"../cloned_pen_models_pt/iql-pt-D4RL/pen/stats.csv\", header=None, names=[\"return\"]\n",
    "# )\n",
    "# pt_cloned_df[\"dataset\"] = \"D4RL/pen/cloned-v2\"\n",
    "# pt_expert_df = pd.read_csv(\n",
    "#     \"../expert_pen_models_pt/iql-pt-D4RL/pen/stats.csv\", header=None, names=[\"return\"]\n",
    "# )\n",
    "# pt_expert_df[\"dataset\"] = \"D4RL/pen/expert-v2\"\n",
    "# pt_human_df = pd.read_csv(\n",
    "#     \"../human_pen_models_pt/iql-pt-D4RL/pen/stats.csv\", header=None, names=[\"return\"]\n",
    "# )\n",
    "# pt_human_df[\"dataset\"] = \"D4RL/pen/human-v2\""
   ]
  },
  {
   "cell_type": "code",
   "execution_count": 7,
   "id": "71839d8f-a2a3-408d-ae88-05004335e18d",
   "metadata": {},
   "outputs": [],
   "source": [
    "# pt_df = pd.concat([pt_cloned_df, pt_expert_df, pt_human_df])\n",
    "# pt_df[\"rf\"] = \"PT\""
   ]
  },
  {
   "cell_type": "code",
   "execution_count": 8,
   "id": "e61c6d8e-0eef-49bd-9f05-a3ae9e91e428",
   "metadata": {},
   "outputs": [],
   "source": [
    "# fg_best_cloned_df = pd.read_csv(\n",
    "#     \"../cloned_pen_models_br/iql-br-D4RL/pen/FG_0/stats.csv\",\n",
    "#     header=None,\n",
    "#     names=[\"return\"],\n",
    "# )\n",
    "# fg_best_cloned_df[\"dataset\"] = \"D4RL/pen/cloned-v2\"\n",
    "# fg_best_expert_df = pd.read_csv(\n",
    "#     \"../expert_pen_models_br/iql-br-D4RL/pen/FG_0/stats.csv\",\n",
    "#     header=None,\n",
    "#     names=[\"return\"],\n",
    "# )\n",
    "# fg_best_expert_df[\"dataset\"] = \"D4RL/pen/expert-v2\"\n",
    "# fg_best_human_df = pd.read_csv(\n",
    "#     \"../human_pen_models_br/iql-br-D4RL/pen/FG_1/stats.csv\",\n",
    "#     header=None,\n",
    "#     names=[\"return\"],\n",
    "# )\n",
    "# fg_best_human_df[\"dataset\"] = \"D4RL/pen/human-v2\"\n",
    "# fg_best_df = pd.concat([fg_best_cloned_df, fg_best_expert_df, fg_best_human_df])\n",
    "# fg_best_df[\"rf\"] = \"FG-best\""
   ]
  },
  {
   "cell_type": "code",
   "execution_count": 9,
   "id": "b030508f-f0e8-48e3-9d5a-c0b282039f7b",
   "metadata": {},
   "outputs": [],
   "source": [
    "# fg_best_df = pd.concat([fg_best_cloned_df, fg_best_expert_df, fg_best_human_df])\n",
    "# fg_best_df[\"rf\"] = \"FG-best\""
   ]
  },
  {
   "cell_type": "code",
   "execution_count": 10,
   "id": "addeca11-6022-46ef-8b3e-61fe303406d9",
   "metadata": {},
   "outputs": [],
   "source": [
    "# optim_best_cloned_df = pd.read_csv(\n",
    "#     \"../cloned_pen_models_br_1/iql-br-D4RL/pen/stats.csv\",\n",
    "#     header=None,\n",
    "#     names=[\"return\"],\n",
    "# )\n",
    "# optim_best_cloned_df[\"dataset\"] = \"D4RL/pen/cloned-v2\"\n",
    "# optim_best_expert_df = pd.read_csv(\n",
    "#     \"../expert_pen_models_br_1/iql-br-D4RL/pen/stats.csv\",\n",
    "#     header=None,\n",
    "#     names=[\"return\"],\n",
    "# )\n",
    "# optim_best_expert_df[\"dataset\"] = \"D4RL/pen/expert-v2\"\n",
    "# optim_best_human_df = pd.read_csv(\n",
    "#     \"../human_pen_models_br_3/iql-br-D4RL/pen/stats.csv\",\n",
    "#     header=None,\n",
    "#     names=[\"return\"],\n",
    "# )\n",
    "# optim_best_human_df[\"dataset\"] = \"D4RL/pen/human-v2\"\n",
    "# optim_best_df = pd.concat(\n",
    "#     [optim_best_cloned_df, optim_best_expert_df, optim_best_human_df]\n",
    "# )\n",
    "# optim_best_df[\"rf\"] = \"optim-best\""
   ]
  },
  {
   "cell_type": "code",
   "execution_count": 11,
   "id": "710ccadb-473d-4c84-bb7b-95d3e93c1363",
   "metadata": {},
   "outputs": [],
   "source": [
    "# optim_best_df = pd.concat(\n",
    "#     [optim_best_cloned_df, optim_best_expert_df, optim_best_human_df]\n",
    "# )\n",
    "# optim_best_df[\"rf\"] = \"optim-best\""
   ]
  },
  {
   "cell_type": "code",
   "execution_count": 12,
   "id": "a8399f6f-ac6d-4dca-94de-14f64845da96",
   "metadata": {},
   "outputs": [],
   "source": [
    "# optim_star_best_cloned_df = pd.read_csv(\n",
    "#     \"../cloned_pen_models_br_star/iql-br-star-D4RL/pen/optim_0/stats.csv\",\n",
    "#     header=None,\n",
    "#     names=[\"return\"],\n",
    "# )\n",
    "# optim_star_best_cloned_df[\"dataset\"] = \"D4RL/pen/cloned-v2\"\n",
    "# optim_star_best_expert_df = pd.read_csv(\n",
    "#     \"../expert_pen_models_br_star/iql-br-star-D4RL/pen/optim_0/stats.csv\",\n",
    "#     header=None,\n",
    "#     names=[\"return\"],\n",
    "# )\n",
    "# optim_star_best_expert_df[\"dataset\"] = \"D4RL/pen/expert-v2\"\n",
    "# optim_star_best_human_df = pd.read_csv(\n",
    "#     \"../human_pen_models_br_star/iql-br-star-D4RL/pen/optim_1/stats.csv\",\n",
    "#     header=None,\n",
    "#     names=[\"return\"],\n",
    "# )\n",
    "# optim_star_best_human_df[\"dataset\"] = \"D4RL/pen/human-v2\"\n",
    "# optim_star_best_df = pd.concat(\n",
    "#     [optim_star_best_cloned_df, optim_star_best_expert_df, optim_star_best_human_df]\n",
    "# )\n",
    "# optim_star_best_df[\"rf\"] = \"optim-star-best\""
   ]
  },
  {
   "cell_type": "code",
   "execution_count": 13,
   "id": "bacc4d35-c806-4d25-a011-83bc9c7f37d4",
   "metadata": {},
   "outputs": [],
   "source": [
    "# c_df = pd.concat([t_df, mr_df, pt_df, fg_best_df, optim_best_df])\n",
    "# means = c_df.groupby([\"dataset\", \"rf\"])[\"return\"].mean().reset_index()\n",
    "# stds = c_df.groupby([\"dataset\", \"rf\"])[\"return\"].std().reset_index()\n",
    "# counts = c_df.groupby([\"dataset\", \"rf\"])[\"return\"].count().reset_index()\n",
    "\n",
    "means = t_df.groupby(\"dataset\")[\"return\"].mean().reset_index()\n",
    "stds = t_df.groupby(\"dataset\")[\"return\"].std().reset_index()\n",
    "counts = t_df.groupby(\"dataset\")[\"return\"].count().reset_index()"
   ]
  },
  {
   "cell_type": "code",
   "execution_count": 14,
   "id": "99c7611c-3ed4-4df3-bb47-a997dfa1404d",
   "metadata": {},
   "outputs": [
    {
     "data": {
      "image/png": "[encoded data removed]",
      "text/plain": [
       "<Figure size 640x480 with 1 Axes>"
      ]
     },
     "metadata": {},
     "output_type": "display_data"
    }
   ],
   "source": [
    "g = sns.violinplot(y=\"return\", x=\"dataset\", hue=\"rf\", data=t_df)\n",
    "# for i, dataset in enumerate(c_df[\"dataset\"].unique()):\n",
    "#     for j, rf in enumerate(c_df[\"rf\"].unique()):\n",
    "#         mean_val = means[(means[\"dataset\"] == dataset) & (means[\"rf\"] == rf)][\n",
    "#             \"return\"\n",
    "#         ].values\n",
    "#         if len(mean_val) > 0:\n",
    "#             # Adjust x position based on hue index (e.g., -0.2 for 'Yes', 0.2 for 'No')\n",
    "#             x_offset = (\n",
    "#                 2 * (-0.8 / 5.0)\n",
    "#                 if rf == \"task reward\"\n",
    "#                 else (\n",
    "#                     (-0.8 / 5.0)\n",
    "#                     if rf == \"MR\"\n",
    "#                     else (\n",
    "#                         0\n",
    "#                         if rf == \"PT\"\n",
    "#                         else ((0.8 / 5.0) if rf == \"FG-best\" else 2 * (0.8 / 5.0))\n",
    "#                     )\n",
    "#                 )\n",
    "#             )\n",
    "#             plt.scatter(\n",
    "#                 i + x_offset,\n",
    "#                 mean_val[0],\n",
    "#                 color=\"red\",\n",
    "#                 marker=\"_\",\n",
    "#                 s=100,\n",
    "#                 zorder=3,\n",
    "#                 label=\"Mean\" if i == 0 and j == 0 else \"\",\n",
    "#             )\n",
    "plt.legend(bbox_to_anchor=(1.05, 1), loc=\"upper left\", borderaxespad=0)\n",
    "plt.title(\"All Scores\")\n",
    "plt.show()"
   ]
  },
  {
   "cell_type": "code",
   "execution_count": 15,
   "id": "87d1d3c2-6380-473e-8b01-b8f76b9870ab",
   "metadata": {},
   "outputs": [
    {
     "name": "stdout",
     "output_type": "stream",
     "text": [
      "+-----------------------------------------------+\n",
      "|                   All Scores                  |\n",
      "+--------------------+--------------------------+\n",
      "|      Dataset       |   IQL with task reward   |\n",
      "+--------------------+--------------------------+\n",
      "| D4RL/pen/cloned-v2 | 5473.52 ± 4548.35 (5000) |\n",
      "| D4RL/pen/expert-v2 | 9756.0 ± 2343.29 (5000)  |\n",
      "| D4RL/pen/human-v2  | 5911.39 ± 4530.01 (5000) |\n",
      "+--------------------+--------------------------+\n"
     ]
    }
   ],
   "source": [
    "table = PrettyTable()\n",
    "table.add_column(\"Dataset\", means[\"dataset\"].unique().tolist())\n",
    "\n",
    "# ms_t = means.loc[means[\"rf\"] == \"task reward\", \"return\"].tolist()\n",
    "# ss_t = stds.loc[stds[\"rf\"] == \"task reward\", \"return\"].tolist()\n",
    "# c_t = counts.loc[counts[\"rf\"] == \"task reward\", \"return\"].tolist()\n",
    "# n_score_t = []\n",
    "\n",
    "ms_t = means[\"return\"].tolist()\n",
    "ss_t = stds[\"return\"].tolist()\n",
    "c_t = counts[\"return\"].tolist()\n",
    "n_score_t = []\n",
    "\n",
    "# ms_mr = means.loc[means[\"rf\"] == \"MR\", \"return\"].tolist()\n",
    "# ss_mr = stds.loc[stds[\"rf\"] == \"MR\", \"return\"].tolist()\n",
    "# c_mr = counts.loc[counts[\"rf\"] == \"MR\", \"return\"].tolist()\n",
    "# n_score_mr = []\n",
    "\n",
    "# ms_pt = means.loc[means[\"rf\"] == \"PT\", \"return\"].tolist()\n",
    "# ss_pt = stds.loc[stds[\"rf\"] == \"PT\", \"return\"].tolist()\n",
    "# c_pt = counts.loc[counts[\"rf\"] == \"PT\", \"return\"].tolist()\n",
    "# n_score_pt = []\n",
    "\n",
    "# ms_fg_best = means.loc[means[\"rf\"] == \"FG-best\", \"return\"].tolist()\n",
    "# ss_fg_best = stds.loc[stds[\"rf\"] == \"FG-best\", \"return\"].tolist()\n",
    "# c_fg_best = counts.loc[counts[\"rf\"] == \"FG-best\", \"return\"].tolist()\n",
    "# n_score_fg_best = []\n",
    "# rf_fg = [\"0\", \"1\", \"1\"]\n",
    "\n",
    "# ms_optim_best = means.loc[means[\"rf\"] == \"optim-best\", \"return\"].tolist()\n",
    "# ss_optim_best = stds.loc[stds[\"rf\"] == \"optim-best\", \"return\"].tolist()\n",
    "# c_optim_best = counts.loc[counts[\"rf\"] == \"optim-best\", \"return\"].tolist()\n",
    "# n_score_optim_best = []\n",
    "# rf_optim = [\"2\", \"1\", \"0\"]\n",
    "\n",
    "for i, j in enumerate(ms_t):\n",
    "    n_score_t.append(f\"{round(j,2)} \\u00b1 {round(ss_t[i],2)} ({c_t[i]})\")\n",
    "    # n_score_mr.append(f\"{round(ms_mr[i],2)} \\u00b1 {round(ss_mr[i],2)} ({c_mr[i]})\")\n",
    "    # n_score_pt.append(f\"{round(ms_pt[i],2)} \\u00b1 {round(ss_pt[i],2)} ({c_pt[i]})\")\n",
    "    # n_score_fg_best.append(\n",
    "    #     f\"{round(ms_fg_best[i],2)} \\u00b1 {round(ss_fg_best[i],2)} ({c_fg_best[i]},{rf_fg[i]})\"\n",
    "    # )\n",
    "    # n_score_optim_best.append(\n",
    "    #     f\"{round(ms_optim_best[i],2)} \\u00b1 {round(ss_optim_best[i],2)} ({c_optim_best[i]},{rf_optim[i]})\"\n",
    "    # )\n",
    "    # n_score_optim_star_best.append(\n",
    "    #     f\"{round(nms_optim_star_best[i],2)} \\u00b1 {round(nss_optim_star_best[i],2)} ({optim_star_rf[i]})\"\n",
    "    # )\n",
    "table.add_column(\"IQL with task reward\", n_score_t)\n",
    "# table.add_column(\"IQL with MR\", n_score_mr)\n",
    "# table.add_column(\"IQL with PT\", n_score_pt)\n",
    "# table.add_column(\"IQL with FG-best\", n_score_fg_best)\n",
    "# table.add_column(\"IQL with optim-best\", n_score_optim_best)\n",
    "table.title = \"All Scores\"\n",
    "print(table)"
   ]
  }
 ],
 "metadata": {
  "kernelspec": {
   "display_name": "Python 3 (ipykernel)",
   "language": "python",
   "name": "python3"
  },
  "language_info": {
   "codemirror_mode": {
    "name": "ipython",
    "version": 3
   },
   "file_extension": ".py",
   "mimetype": "text/x-python",
   "name": "python",
   "nbconvert_exporter": "python",
   "pygments_lexer": "ipython3",
   "version": "3.12.9"
  }
 },
 "nbformat": 4,
 "nbformat_minor": 5
}
