{
 "cells": [
  {
   "cell_type": "code",
   "execution_count": null,
   "id": "14d6a76a-5697-4dca-881b-60dd56f6d823",
   "metadata": {},
   "outputs": [],
   "source": [
    "import matplotlib.pyplot as plt\n",
    "import pandas as pd\n",
    "import seaborn as sns\n",
    "from prettytable import PrettyTable\n",
    "\n",
    "pd.options.mode.copy_on_write = True"
   ]
  },
  {
   "cell_type": "code",
   "execution_count": null,
   "id": "a8bac913-8574-4852-b1f9-c7d4f9f40159",
   "metadata": {},
   "outputs": [],
   "source": [
    "t_df = pd.read_csv(\"../task_reward_iql_results/pen_results.csv\")\n",
    "mr_df = pd.read_csv(\"../mr_iql_results/pen_results.csv\")\n",
    "pt_df = pd.read_csv(\"../pt_iql_results/pen_results.csv\")\n",
    "\n",
    "t_idx = t_df.groupby(\"dataset\")[\"mean_score\"].transform(\"max\") == t_df[\"mean_score\"]\n",
    "best_t_df = t_df[t_idx]\n",
    "\n",
    "mr_idx = mr_df.groupby(\"dataset\")[\"mean_score\"].transform(\"max\") == mr_df[\"mean_score\"]\n",
    "best_mr_df = mr_df[mr_idx]\n",
    "\n",
    "pt_idx = pt_df.groupby(\"dataset\")[\"mean_score\"].transform(\"max\") == pt_df[\"mean_score\"]\n",
    "best_pt_df = pt_df[pt_idx]"
   ]
  },
  {
   "cell_type": "code",
   "execution_count": null,
   "id": "0c09b143-fa57-439d-b620-bff2b2f94ce1",
   "metadata": {
    "scrolled": true
   },
   "outputs": [],
   "source": [
    "table = PrettyTable()\n",
    "table.add_column(\"Dataset\", best_t_df[\"dataset\"].tolist())\n",
    "\n",
    "nms_t = best_t_df[\"normalized_mean_score\"].tolist()\n",
    "nss_t = best_t_df[\"normalized_std_score\"].tolist()\n",
    "n_score_t = []\n",
    "\n",
    "nms_mr = best_mr_df[\"normalized_mean_score\"].tolist()\n",
    "nss_mr = best_mr_df[\"normalized_std_score\"].tolist()\n",
    "n_score_mr = []\n",
    "\n",
    "nms_pt = best_pt_df[\"normalized_mean_score\"].tolist()\n",
    "nss_pt = best_pt_df[\"normalized_std_score\"].tolist()\n",
    "n_score_pt = []\n",
    "\n",
    "for i, j in enumerate(nms_t):\n",
    "    n_score_t.append(f\"{round(j,2)} \\u00b1 {round(nss_t[i],2)}\")\n",
    "    n_score_mr.append(f\"{round(nms_mr[i],2)} \\u00b1 {round(nss_mr[i],2)}\")\n",
    "    n_score_pt.append(f\"{round(nms_pt[i],2)} \\u00b1 {round(nss_pt[i],2)}\")\n",
    "table.add_column(\"IQL with task reward\", n_score_t)\n",
    "table.add_column(\"IQL with MR\", n_score_mr)\n",
    "table.add_column(\"IQL with PT\", n_score_pt)\n",
    "print(table)"
   ]
  },
  {
   "cell_type": "code",
   "execution_count": null,
   "id": "41212bf7-36ce-41e9-af81-e50555a59e63",
   "metadata": {},
   "outputs": [],
   "source": [
    "best_t_df[\"rf\"] = \"Task Reward\"\n",
    "best_mr_df[\"rf\"] = \"MR\"\n",
    "best_pt_df[\"rf\"] = \"PT\"\n",
    "best_df = pd.concat([best_t_df, best_mr_df, best_pt_df])\n",
    "best_df = best_df.sort_values(by=\"dataset\")"
   ]
  },
  {
   "cell_type": "code",
   "execution_count": null,
   "id": "5887c676-2958-47a3-86c3-2050ecb83119",
   "metadata": {},
   "outputs": [],
   "source": [
    "g = sns.catplot(\n",
    "    best_df, kind=\"bar\", x=\"dataset\", y=\"normalized_mean_score\", hue=\"rf\", width=0.8\n",
    ")\n",
    "s = 0.8/3.0\n",
    "plt.errorbar(\n",
    "    x=[0 - s, 0, 0 + s, 1 - s, 1, 1 + s, 2 - s, 2, 2 + s],\n",
    "    y=best_df[\"normalized_mean_score\"],\n",
    "    yerr=best_df[\"normalized_std_score\"],\n",
    "    fmt=\"none\",  # Remove the default markers\n",
    "    c=\"black\",  # Set the color of the error bars\n",
    "    capsize=0,\n",
    ")  # Add caps to the error bars\n",
    "g.set_xticklabels(rotation=30)\n",
    "g.set_axis_labels(\"\", \"Mean Score\")\n",
    "g.legend.set_title(\"\")\n",
    "plt.xlabel(\"Dataset\")\n",
    "plt.ylabel(\"Mean Score\")\n",
    "plt.title(\"IQL scores\")\n",
    "plt.show()"
   ]
  }
 ],
 "metadata": {
  "kernelspec": {
   "display_name": "Python 3 (ipykernel)",
   "language": "python",
   "name": "python3"
  },
  "language_info": {
   "codemirror_mode": {
    "name": "ipython",
    "version": 3
   },
   "file_extension": ".py",
   "mimetype": "text/x-python",
   "name": "python",
   "nbconvert_exporter": "python",
   "pygments_lexer": "ipython3",
   "version": "3.12.9"
  }
 },
 "nbformat": 4,
 "nbformat_minor": 5
}
